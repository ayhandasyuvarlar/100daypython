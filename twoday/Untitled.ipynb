{
 "cells": [
  {
   "cell_type": "code",
   "execution_count": 1,
   "id": "0570ee69",
   "metadata": {},
   "outputs": [
    {
     "name": "stdout",
     "output_type": "stream",
     "text": [
      "ayhandasyuvarlar\n",
      "https://medium.com/@ayhandasyuvarlar\n",
      "Analyzing the url https://medium.com/@ayhandasyuvarlar for organization ayhandasyuvarlar\n"
     ]
    }
   ],
   "source": [
    "organization = input()\n",
    "url = input()\n",
    "\n",
    "print('Analyzing the url', url, 'for organization', organization)"
   ]
  },
  {
   "cell_type": "code",
   "execution_count": 2,
   "id": "fb4f0931",
   "metadata": {},
   "outputs": [
    {
     "name": "stdout",
     "output_type": "stream",
     "text": [
      "Enter your organization name: ayhandasyuvarlar\n",
      "Enter the website URL: https://medium.com/@ayhandasyuvarlar\n",
      "Analyzing the url https://medium.com/@ayhandasyuvarlar for organization ayhandasyuvarlar\n"
     ]
    }
   ],
   "source": [
    "print('Enter your organization name', end=': ')\n",
    "organization = input()\n",
    "print('Enter the website URL', end=': ')\n",
    "url = input()\n",
    "\n",
    "print('Analyzing the url', url, 'for organization', organization)"
   ]
  },
  {
   "cell_type": "code",
   "execution_count": 3,
   "id": "cbf41b83",
   "metadata": {},
   "outputs": [
    {
     "name": "stdout",
     "output_type": "stream",
     "text": [
      "Enter your organization name: ayhan dasyuvarlar\n",
      "Enter the website URL: https://medium.com/@ayhandasyuvarlar\n",
      "Analyzing the url https://medium.com/@ayhandasyuvarlar for organization ayhan dasyuvarlar\n"
     ]
    }
   ],
   "source": [
    "print('Enter your organization name', end=': ')\n",
    "organization = input()\n",
    "print('Enter the website URL', end=': ')\n",
    "url = input()\n",
    "\n",
    "print('Analyzing the url', url, 'for organization', organization)"
   ]
  },
  {
   "cell_type": "code",
   "execution_count": null,
   "id": "c4e382c4",
   "metadata": {},
   "outputs": [],
   "source": []
  }
 ],
 "metadata": {
  "kernelspec": {
   "display_name": "Python 3 (ipykernel)",
   "language": "python",
   "name": "python3"
  },
  "language_info": {
   "codemirror_mode": {
    "name": "ipython",
    "version": 3
   },
   "file_extension": ".py",
   "mimetype": "text/x-python",
   "name": "python",
   "nbconvert_exporter": "python",
   "pygments_lexer": "ipython3",
   "version": "3.10.9"
  }
 },
 "nbformat": 4,
 "nbformat_minor": 5
}
